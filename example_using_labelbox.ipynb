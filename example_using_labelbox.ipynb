{
 "cells": [
  {
   "cell_type": "code",
   "execution_count": 11,
   "metadata": {},
   "outputs": [],
   "source": [
    "import json\n",
    "from data.clients import labelbox\n",
    "\n",
    "client = labelbox.client()"
   ]
  },
  {
   "cell_type": "code",
   "execution_count": 12,
   "metadata": {},
   "outputs": [],
   "source": [
    "def projects():\n",
    "    query = \"\"\"\n",
    "    query Query {\n",
    "          projects {\n",
    "              id\n",
    "              name\n",
    "          }\n",
    "        }\n",
    "    \"\"\"\n",
    "    res_str = client.execute(query)\n",
    "\n",
    "    res = json.loads(res_str)\n",
    "    return res['data']['projects']"
   ]
  },
  {
   "cell_type": "code",
   "execution_count": 13,
   "metadata": {},
   "outputs": [],
   "source": [
    "def get_project_metadata(project_id):\n",
    "    query = \"\"\"query GetProjectData {project(where:{id: $project_id})}\"\"\".format(i=project_id)\n",
    "    res_str = client.execute(query, {'project_id': project_id})\n",
    "\n",
    "    res = json.loads(res_str)\n",
    "    return res"
   ]
  },
  {
   "cell_type": "code",
   "execution_count": 14,
   "metadata": {},
   "outputs": [],
   "source": [
    "def get_page_of_labels(project_id, page_size=50):\n",
    "    page_query = '''\n",
    "    query APIGetPageOfLabels($projectId: ID!, $first: PageSize!) {\n",
    "      project(where:{id: $projectId}) {\n",
    "        labels( first: $first){\n",
    "          id\n",
    "          label\n",
    "          createdBy{\n",
    "            id\n",
    "            email\n",
    "          }\n",
    "          type {\n",
    "            id\n",
    "            name\n",
    "          }\n",
    "          secondsToLabel\n",
    "          agreement\n",
    "          dataRow {\n",
    "            id\n",
    "            rowData\n",
    "          }\n",
    "        }\n",
    "      }\n",
    "    }\n",
    "    '''\n",
    "    res = client.execute(page_query, {'projectId': project_id, 'first': page_size})\n",
    "    data = json.loads(res)['data']\n",
    "    return data['project']['labels'] or []"
   ]
  },
  {
   "cell_type": "code",
   "execution_count": 15,
   "metadata": {},
   "outputs": [],
   "source": [
    "projs = projects()"
   ]
  },
  {
   "cell_type": "code",
   "execution_count": 16,
   "metadata": {},
   "outputs": [
    {
     "name": "stdout",
     "output_type": "stream",
     "text": [
      "cjttlls4tjjmj0801qpvmpy6u\n",
      "a.titilayo1@gmail.com\n",
      "adisaomolara.oa@gmail.com\n",
      "a.titilayo1@gmail.com\n",
      "adebolakehindemary@gmail.com\n",
      "adisaomolara.oa@gmail.com\n",
      "adisaomolara.oa@gmail.com\n",
      "adebolakehindemary@gmail.com\n",
      "francismercit@gmail.com\n",
      "francismercit@gmail.com\n",
      "adebolakehindemary@gmail.com\n",
      "adebolakehindemary@gmail.com\n",
      "a.titilayo1@gmail.com\n",
      "ndazhagan@gmail.com\n",
      "ndazhagan@gmail.com\n",
      "ndazhagan@gmail.com\n",
      "ndazhagan@gmail.com\n",
      "adisaomolara.oa@gmail.com\n",
      "ndazhagan@gmail.com\n",
      "adisaomolara.oa@gmail.com\n",
      "ndazhagan@gmail.com\n",
      "ndazhagan@gmail.com\n",
      "a.titilayo1@gmail.com\n",
      "francismercit@gmail.com\n",
      "ndazhagan@gmail.com\n",
      "a.titilayo1@gmail.com\n",
      "ndazhagan@gmail.com\n",
      "ndazhagan@gmail.com\n",
      "adebolakehindemary@gmail.com\n",
      "damikanye@gmail.com\n",
      "ndazhagan@gmail.com\n",
      "damikanye@gmail.com\n",
      "damikanye@gmail.com\n",
      "damikanye@gmail.com\n",
      "francismercit@gmail.com\n",
      "damikanye@gmail.com\n",
      "damikanye@gmail.com\n",
      "ndazhagan@gmail.com\n",
      "damikanye@gmail.com\n",
      "ndazhagan@gmail.com\n",
      "adebolakehindemary@gmail.com\n",
      "adisaomolara.oa@gmail.com\n",
      "damikanye@gmail.com\n",
      "adisaomolara.oa@gmail.com\n",
      "damikanye@gmail.com\n",
      "damikanye@gmail.com\n",
      "ndazhagan@gmail.com\n",
      "a.titilayo1@gmail.com\n",
      "damikanye@gmail.com\n",
      "damikanye@gmail.com\n",
      "damikanye@gmail.com\n"
     ]
    }
   ],
   "source": [
    "for proj in projs:\n",
    "    print(proj['id'])\n",
    "    l = get_page_of_labels(proj['id'])\n",
    "    for i in l:\n",
    "        print(i['createdBy']['email'])\n",
    "    break"
   ]
  },
  {
   "cell_type": "code",
   "execution_count": 17,
   "metadata": {},
   "outputs": [
    {
     "data": {
      "text/plain": [
       "'damikanye@gmail.com'"
      ]
     },
     "execution_count": 17,
     "metadata": {},
     "output_type": "execute_result"
    }
   ],
   "source": []
  },
  {
   "cell_type": "code",
   "execution_count": null,
   "metadata": {},
   "outputs": [],
   "source": []
  },
  {
   "cell_type": "code",
   "execution_count": null,
   "metadata": {},
   "outputs": [],
   "source": []
  },
  {
   "cell_type": "code",
   "execution_count": null,
   "metadata": {},
   "outputs": [],
   "source": []
  },
  {
   "cell_type": "code",
   "execution_count": null,
   "metadata": {},
   "outputs": [],
   "source": []
  }
 ],
 "metadata": {
  "kernelspec": {
   "display_name": "Python 3",
   "language": "python",
   "name": "python3"
  },
  "language_info": {
   "codemirror_mode": {
    "name": "ipython",
    "version": 3
   },
   "file_extension": ".py",
   "mimetype": "text/x-python",
   "name": "python",
   "nbconvert_exporter": "python",
   "pygments_lexer": "ipython3",
   "version": "3.7.3"
  }
 },
 "nbformat": 4,
 "nbformat_minor": 2
}
